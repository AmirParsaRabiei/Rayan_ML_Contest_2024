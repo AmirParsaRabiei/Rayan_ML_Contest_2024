{
  "nbformat": 4,
  "nbformat_minor": 0,
  "metadata": {
    "colab": {
      "provenance": [],
      "machine_shape": "hm",
      "gpuType": "L4"
    },
    "kernelspec": {
      "name": "python3",
      "display_name": "Python 3"
    },
    "language_info": {
      "name": "python"
    },
    "accelerator": "GPU",
    "widgets": {
      "application/vnd.jupyter.widget-state+json": {
        "ee55aa8bcad74cdbb8b3ca0c8f96e54f": {
          "model_module": "@jupyter-widgets/controls",
          "model_name": "HBoxModel",
          "model_module_version": "1.5.0",
          "state": {
            "_dom_classes": [],
            "_model_module": "@jupyter-widgets/controls",
            "_model_module_version": "1.5.0",
            "_model_name": "HBoxModel",
            "_view_count": null,
            "_view_module": "@jupyter-widgets/controls",
            "_view_module_version": "1.5.0",
            "_view_name": "HBoxView",
            "box_style": "",
            "children": [
              "IPY_MODEL_4d32db5870794741bd1fa3ef9c2f042d",
              "IPY_MODEL_bcda0f7176c34914a82ea8d657e792f2",
              "IPY_MODEL_c93e488cd0a94128a1fe0327877ade98"
            ],
            "layout": "IPY_MODEL_a601ea9b42f4487a981df421cb65df19"
          }
        },
        "4d32db5870794741bd1fa3ef9c2f042d": {
          "model_module": "@jupyter-widgets/controls",
          "model_name": "HTMLModel",
          "model_module_version": "1.5.0",
          "state": {
            "_dom_classes": [],
            "_model_module": "@jupyter-widgets/controls",
            "_model_module_version": "1.5.0",
            "_model_name": "HTMLModel",
            "_view_count": null,
            "_view_module": "@jupyter-widgets/controls",
            "_view_module_version": "1.5.0",
            "_view_name": "HTMLView",
            "description": "",
            "description_tooltip": null,
            "layout": "IPY_MODEL_24e918a6fb6d4c7f8b713b3cbb07a822",
            "placeholder": "​",
            "style": "IPY_MODEL_35ac512639844d4b862eecdfed12084e",
            "value": "inat_train_modified.tar.gz: 100%"
          }
        },
        "bcda0f7176c34914a82ea8d657e792f2": {
          "model_module": "@jupyter-widgets/controls",
          "model_name": "FloatProgressModel",
          "model_module_version": "1.5.0",
          "state": {
            "_dom_classes": [],
            "_model_module": "@jupyter-widgets/controls",
            "_model_module_version": "1.5.0",
            "_model_name": "FloatProgressModel",
            "_view_count": null,
            "_view_module": "@jupyter-widgets/controls",
            "_view_module_version": "1.5.0",
            "_view_name": "ProgressView",
            "bar_style": "success",
            "description": "",
            "description_tooltip": null,
            "layout": "IPY_MODEL_07a6f664c1964d31b18fb2d0a36dec30",
            "max": 11446008397,
            "min": 0,
            "orientation": "horizontal",
            "style": "IPY_MODEL_ae481ebef7694d108fa74f4d9008f312",
            "value": 11446008397
          }
        },
        "c93e488cd0a94128a1fe0327877ade98": {
          "model_module": "@jupyter-widgets/controls",
          "model_name": "HTMLModel",
          "model_module_version": "1.5.0",
          "state": {
            "_dom_classes": [],
            "_model_module": "@jupyter-widgets/controls",
            "_model_module_version": "1.5.0",
            "_model_name": "HTMLModel",
            "_view_count": null,
            "_view_module": "@jupyter-widgets/controls",
            "_view_module_version": "1.5.0",
            "_view_name": "HTMLView",
            "description": "",
            "description_tooltip": null,
            "layout": "IPY_MODEL_7229cde8b5a2409885ea8df1731ee7e0",
            "placeholder": "​",
            "style": "IPY_MODEL_f70f62249db14725a328c535a5999657",
            "value": " 11.4G/11.4G [04:31&lt;00:00, 43.0MB/s]"
          }
        },
        "a601ea9b42f4487a981df421cb65df19": {
          "model_module": "@jupyter-widgets/base",
          "model_name": "LayoutModel",
          "model_module_version": "1.2.0",
          "state": {
            "_model_module": "@jupyter-widgets/base",
            "_model_module_version": "1.2.0",
            "_model_name": "LayoutModel",
            "_view_count": null,
            "_view_module": "@jupyter-widgets/base",
            "_view_module_version": "1.2.0",
            "_view_name": "LayoutView",
            "align_content": null,
            "align_items": null,
            "align_self": null,
            "border": null,
            "bottom": null,
            "display": null,
            "flex": null,
            "flex_flow": null,
            "grid_area": null,
            "grid_auto_columns": null,
            "grid_auto_flow": null,
            "grid_auto_rows": null,
            "grid_column": null,
            "grid_gap": null,
            "grid_row": null,
            "grid_template_areas": null,
            "grid_template_columns": null,
            "grid_template_rows": null,
            "height": null,
            "justify_content": null,
            "justify_items": null,
            "left": null,
            "margin": null,
            "max_height": null,
            "max_width": null,
            "min_height": null,
            "min_width": null,
            "object_fit": null,
            "object_position": null,
            "order": null,
            "overflow": null,
            "overflow_x": null,
            "overflow_y": null,
            "padding": null,
            "right": null,
            "top": null,
            "visibility": null,
            "width": null
          }
        },
        "24e918a6fb6d4c7f8b713b3cbb07a822": {
          "model_module": "@jupyter-widgets/base",
          "model_name": "LayoutModel",
          "model_module_version": "1.2.0",
          "state": {
            "_model_module": "@jupyter-widgets/base",
            "_model_module_version": "1.2.0",
            "_model_name": "LayoutModel",
            "_view_count": null,
            "_view_module": "@jupyter-widgets/base",
            "_view_module_version": "1.2.0",
            "_view_name": "LayoutView",
            "align_content": null,
            "align_items": null,
            "align_self": null,
            "border": null,
            "bottom": null,
            "display": null,
            "flex": null,
            "flex_flow": null,
            "grid_area": null,
            "grid_auto_columns": null,
            "grid_auto_flow": null,
            "grid_auto_rows": null,
            "grid_column": null,
            "grid_gap": null,
            "grid_row": null,
            "grid_template_areas": null,
            "grid_template_columns": null,
            "grid_template_rows": null,
            "height": null,
            "justify_content": null,
            "justify_items": null,
            "left": null,
            "margin": null,
            "max_height": null,
            "max_width": null,
            "min_height": null,
            "min_width": null,
            "object_fit": null,
            "object_position": null,
            "order": null,
            "overflow": null,
            "overflow_x": null,
            "overflow_y": null,
            "padding": null,
            "right": null,
            "top": null,
            "visibility": null,
            "width": null
          }
        },
        "35ac512639844d4b862eecdfed12084e": {
          "model_module": "@jupyter-widgets/controls",
          "model_name": "DescriptionStyleModel",
          "model_module_version": "1.5.0",
          "state": {
            "_model_module": "@jupyter-widgets/controls",
            "_model_module_version": "1.5.0",
            "_model_name": "DescriptionStyleModel",
            "_view_count": null,
            "_view_module": "@jupyter-widgets/base",
            "_view_module_version": "1.2.0",
            "_view_name": "StyleView",
            "description_width": ""
          }
        },
        "07a6f664c1964d31b18fb2d0a36dec30": {
          "model_module": "@jupyter-widgets/base",
          "model_name": "LayoutModel",
          "model_module_version": "1.2.0",
          "state": {
            "_model_module": "@jupyter-widgets/base",
            "_model_module_version": "1.2.0",
            "_model_name": "LayoutModel",
            "_view_count": null,
            "_view_module": "@jupyter-widgets/base",
            "_view_module_version": "1.2.0",
            "_view_name": "LayoutView",
            "align_content": null,
            "align_items": null,
            "align_self": null,
            "border": null,
            "bottom": null,
            "display": null,
            "flex": null,
            "flex_flow": null,
            "grid_area": null,
            "grid_auto_columns": null,
            "grid_auto_flow": null,
            "grid_auto_rows": null,
            "grid_column": null,
            "grid_gap": null,
            "grid_row": null,
            "grid_template_areas": null,
            "grid_template_columns": null,
            "grid_template_rows": null,
            "height": null,
            "justify_content": null,
            "justify_items": null,
            "left": null,
            "margin": null,
            "max_height": null,
            "max_width": null,
            "min_height": null,
            "min_width": null,
            "object_fit": null,
            "object_position": null,
            "order": null,
            "overflow": null,
            "overflow_x": null,
            "overflow_y": null,
            "padding": null,
            "right": null,
            "top": null,
            "visibility": null,
            "width": null
          }
        },
        "ae481ebef7694d108fa74f4d9008f312": {
          "model_module": "@jupyter-widgets/controls",
          "model_name": "ProgressStyleModel",
          "model_module_version": "1.5.0",
          "state": {
            "_model_module": "@jupyter-widgets/controls",
            "_model_module_version": "1.5.0",
            "_model_name": "ProgressStyleModel",
            "_view_count": null,
            "_view_module": "@jupyter-widgets/base",
            "_view_module_version": "1.2.0",
            "_view_name": "StyleView",
            "bar_color": null,
            "description_width": ""
          }
        },
        "7229cde8b5a2409885ea8df1731ee7e0": {
          "model_module": "@jupyter-widgets/base",
          "model_name": "LayoutModel",
          "model_module_version": "1.2.0",
          "state": {
            "_model_module": "@jupyter-widgets/base",
            "_model_module_version": "1.2.0",
            "_model_name": "LayoutModel",
            "_view_count": null,
            "_view_module": "@jupyter-widgets/base",
            "_view_module_version": "1.2.0",
            "_view_name": "LayoutView",
            "align_content": null,
            "align_items": null,
            "align_self": null,
            "border": null,
            "bottom": null,
            "display": null,
            "flex": null,
            "flex_flow": null,
            "grid_area": null,
            "grid_auto_columns": null,
            "grid_auto_flow": null,
            "grid_auto_rows": null,
            "grid_column": null,
            "grid_gap": null,
            "grid_row": null,
            "grid_template_areas": null,
            "grid_template_columns": null,
            "grid_template_rows": null,
            "height": null,
            "justify_content": null,
            "justify_items": null,
            "left": null,
            "margin": null,
            "max_height": null,
            "max_width": null,
            "min_height": null,
            "min_width": null,
            "object_fit": null,
            "object_position": null,
            "order": null,
            "overflow": null,
            "overflow_x": null,
            "overflow_y": null,
            "padding": null,
            "right": null,
            "top": null,
            "visibility": null,
            "width": null
          }
        },
        "f70f62249db14725a328c535a5999657": {
          "model_module": "@jupyter-widgets/controls",
          "model_name": "DescriptionStyleModel",
          "model_module_version": "1.5.0",
          "state": {
            "_model_module": "@jupyter-widgets/controls",
            "_model_module_version": "1.5.0",
            "_model_name": "DescriptionStyleModel",
            "_view_count": null,
            "_view_module": "@jupyter-widgets/base",
            "_view_module_version": "1.2.0",
            "_view_name": "StyleView",
            "description_width": ""
          }
        }
      }
    }
  },
  "cells": [
    {
      "cell_type": "code",
      "source": [
        "# نصب کتابخانه‌های مورد نیاز\n",
        "!pip install gdown\n",
        "!pip install tqdm\n",
        "!pip install huggingface_hub\n"
      ],
      "metadata": {
        "colab": {
          "base_uri": "https://localhost:8080/"
        },
        "id": "AfWwxi46tYSU",
        "outputId": "3264019f-72eb-4b45-82fc-8a26afe40eaa"
      },
      "execution_count": null,
      "outputs": [
        {
          "output_type": "stream",
          "name": "stdout",
          "text": [
            "Requirement already satisfied: gdown in /usr/local/lib/python3.10/dist-packages (5.2.0)\n",
            "Requirement already satisfied: beautifulsoup4 in /usr/local/lib/python3.10/dist-packages (from gdown) (4.12.3)\n",
            "Requirement already satisfied: filelock in /usr/local/lib/python3.10/dist-packages (from gdown) (3.16.1)\n",
            "Requirement already satisfied: requests[socks] in /usr/local/lib/python3.10/dist-packages (from gdown) (2.32.3)\n",
            "Requirement already satisfied: tqdm in /usr/local/lib/python3.10/dist-packages (from gdown) (4.66.5)\n",
            "Requirement already satisfied: soupsieve>1.2 in /usr/local/lib/python3.10/dist-packages (from beautifulsoup4->gdown) (2.6)\n",
            "Requirement already satisfied: charset-normalizer<4,>=2 in /usr/local/lib/python3.10/dist-packages (from requests[socks]->gdown) (3.4.0)\n",
            "Requirement already satisfied: idna<4,>=2.5 in /usr/local/lib/python3.10/dist-packages (from requests[socks]->gdown) (3.10)\n",
            "Requirement already satisfied: urllib3<3,>=1.21.1 in /usr/local/lib/python3.10/dist-packages (from requests[socks]->gdown) (2.2.3)\n",
            "Requirement already satisfied: certifi>=2017.4.17 in /usr/local/lib/python3.10/dist-packages (from requests[socks]->gdown) (2024.8.30)\n",
            "Requirement already satisfied: PySocks!=1.5.7,>=1.5.6 in /usr/local/lib/python3.10/dist-packages (from requests[socks]->gdown) (1.7.1)\n",
            "Requirement already satisfied: tqdm in /usr/local/lib/python3.10/dist-packages (4.66.5)\n",
            "Requirement already satisfied: huggingface_hub in /usr/local/lib/python3.10/dist-packages (0.24.7)\n",
            "Requirement already satisfied: filelock in /usr/local/lib/python3.10/dist-packages (from huggingface_hub) (3.16.1)\n",
            "Requirement already satisfied: fsspec>=2023.5.0 in /usr/local/lib/python3.10/dist-packages (from huggingface_hub) (2024.6.1)\n",
            "Requirement already satisfied: packaging>=20.9 in /usr/local/lib/python3.10/dist-packages (from huggingface_hub) (24.1)\n",
            "Requirement already satisfied: pyyaml>=5.1 in /usr/local/lib/python3.10/dist-packages (from huggingface_hub) (6.0.2)\n",
            "Requirement already satisfied: requests in /usr/local/lib/python3.10/dist-packages (from huggingface_hub) (2.32.3)\n",
            "Requirement already satisfied: tqdm>=4.42.1 in /usr/local/lib/python3.10/dist-packages (from huggingface_hub) (4.66.5)\n",
            "Requirement already satisfied: typing-extensions>=3.7.4.3 in /usr/local/lib/python3.10/dist-packages (from huggingface_hub) (4.12.2)\n",
            "Requirement already satisfied: charset-normalizer<4,>=2 in /usr/local/lib/python3.10/dist-packages (from requests->huggingface_hub) (3.4.0)\n",
            "Requirement already satisfied: idna<4,>=2.5 in /usr/local/lib/python3.10/dist-packages (from requests->huggingface_hub) (3.10)\n",
            "Requirement already satisfied: urllib3<3,>=1.21.1 in /usr/local/lib/python3.10/dist-packages (from requests->huggingface_hub) (2.2.3)\n",
            "Requirement already satisfied: certifi>=2017.4.17 in /usr/local/lib/python3.10/dist-packages (from requests->huggingface_hub) (2024.8.30)\n"
          ]
        }
      ]
    },
    {
      "cell_type": "code",
      "source": [
        "import os\n",
        "from huggingface_hub import hf_hub_download\n",
        "import tarfile\n",
        "\n",
        "# دانلود دیتاست\n",
        "hf_hub_download(repo_id='RayanAi/inat_train_modified',\n",
        "               filename=\"inat_train_modified.tar.gz\",\n",
        "               repo_type=\"dataset\",\n",
        "               local_dir=\".\")\n",
        "\n",
        "# استخراج فایل tar.gz\n",
        "with tarfile.open(\"inat_train_modified.tar.gz\", \"r:gz\") as tar:\n",
        "    tar.extractall(path=\".\")\n"
      ],
      "metadata": {
        "colab": {
          "base_uri": "https://localhost:8080/",
          "height": 201,
          "referenced_widgets": [
            "ee55aa8bcad74cdbb8b3ca0c8f96e54f",
            "4d32db5870794741bd1fa3ef9c2f042d",
            "bcda0f7176c34914a82ea8d657e792f2",
            "c93e488cd0a94128a1fe0327877ade98",
            "a601ea9b42f4487a981df421cb65df19",
            "24e918a6fb6d4c7f8b713b3cbb07a822",
            "35ac512639844d4b862eecdfed12084e",
            "07a6f664c1964d31b18fb2d0a36dec30",
            "ae481ebef7694d108fa74f4d9008f312",
            "7229cde8b5a2409885ea8df1731ee7e0",
            "f70f62249db14725a328c535a5999657"
          ]
        },
        "id": "oE38jYvFtcM1",
        "outputId": "211ff3e7-2b6a-470a-d484-369946d606ef"
      },
      "execution_count": null,
      "outputs": [
        {
          "output_type": "stream",
          "name": "stderr",
          "text": [
            "/usr/local/lib/python3.10/dist-packages/huggingface_hub/utils/_token.py:89: UserWarning: \n",
            "The secret `HF_TOKEN` does not exist in your Colab secrets.\n",
            "To authenticate with the Hugging Face Hub, create a token in your settings tab (https://huggingface.co/settings/tokens), set it as secret in your Google Colab and restart your session.\n",
            "You will be able to reuse this secret in all of your notebooks.\n",
            "Please note that authentication is recommended but still optional to access public models or datasets.\n",
            "  warnings.warn(\n"
          ]
        },
        {
          "output_type": "display_data",
          "data": {
            "text/plain": [
              "inat_train_modified.tar.gz:   0%|          | 0.00/11.4G [00:00<?, ?B/s]"
            ],
            "application/vnd.jupyter.widget-view+json": {
              "version_major": 2,
              "version_minor": 0,
              "model_id": "ee55aa8bcad74cdbb8b3ca0c8f96e54f"
            }
          },
          "metadata": {}
        }
      ]
    },
    {
      "cell_type": "code",
      "source": [
        "from typing import Iterator\n",
        "from torch.utils.data import Dataset\n",
        "from PIL import Image\n",
        "from torchvision import transforms\n",
        "\n",
        "class Node:\n",
        "    def __init__(self, name):\n",
        "        self.name = name\n",
        "        self._count = 0\n",
        "        self.children = {}\n",
        "        self._entities = []\n",
        "\n",
        "    def add_to_node(self, path, entity, level=0):\n",
        "        if level >= len(path):\n",
        "            self._entities.append(entity)\n",
        "            return\n",
        "        part = path[level]\n",
        "        if part not in self.children:\n",
        "            self.children[part] = Node(path[:level+1])\n",
        "        self.children[part].add_to_node(path, entity, level=level+1)\n",
        "        self._count += 1\n",
        "\n",
        "    @property\n",
        "    def is_leaf(self):\n",
        "        return len(self._entities) > 0\n",
        "\n",
        "    @property\n",
        "    def count(self):\n",
        "        if self.is_leaf:\n",
        "            return len(self._entities)\n",
        "        else:\n",
        "            return self._count\n",
        "\n",
        "    @property\n",
        "    def entities(self):\n",
        "        if self.is_leaf:\n",
        "            return list((entity, self.name) for entity in self._entities)\n",
        "        else:\n",
        "            child_entities = []\n",
        "            for child in self.children.values():\n",
        "                child_entities.extend(child.entities)\n",
        "        return child_entities\n",
        "\n",
        "    def level_iterator(self, level=None):\n",
        "        if level == 0:\n",
        "            yield self\n",
        "        elif level is None and self.is_leaf:\n",
        "            yield self\n",
        "        elif self.is_leaf and level != 0:\n",
        "            raise Exception(\"Incorrect level is specified in tree.\")\n",
        "        else:\n",
        "            if level is not None:\n",
        "                level -= 1\n",
        "            for child in self.children.values():\n",
        "                for v in child.level_iterator(level):\n",
        "                    yield v\n",
        "\n",
        "    def print_node(self, level=0, max_level=None):\n",
        "        print(' ' * (level * 4) + f\"{self.name[-1]} ({self.count})\")\n",
        "        for node in self.children.values():\n",
        "            if max_level is None or level < max_level:\n",
        "                node.print_node(level + 1, max_level=max_level)\n",
        "        return\n",
        "\n",
        "class HierarchicalDataset(Dataset):\n",
        "    def __init__(self, dataset_path, level=None, transform=None):\n",
        "        self.tree = Node((\"Dataset\",))  # Initialize with root\n",
        "        self.level = level if level is not None else 7  # Default level 7\n",
        "        self.classes = set()\n",
        "        self.data = []\n",
        "        self.transform = transform\n",
        "\n",
        "        index = 0\n",
        "        for group_name in sorted(os.listdir(dataset_path)):\n",
        "            group_dir = os.path.join(dataset_path, group_name)\n",
        "            if not os.path.isdir(group_dir):\n",
        "                continue\n",
        "            for image_name in sorted(os.listdir(group_dir)):\n",
        "                image_path = os.path.join(group_dir, image_name)\n",
        "                group = tuple(group_name.split(\"_\")[1:])  # Assuming format like 'class_name'\n",
        "                if len(group) < self.level:\n",
        "                    continue  # Skip if group path is shorter than required level\n",
        "                group = group[:self.level]\n",
        "                self.data.append({\n",
        "                    \"image_path\": image_path,\n",
        "                    \"group\": group,\n",
        "                })\n",
        "                self.tree.add_to_node(group, index)\n",
        "                index += 1\n",
        "                self.classes.add(group)\n",
        "\n",
        "        self.classes = {group: idx for idx, group in enumerate(sorted(list(self.classes)))}\n",
        "        print(f\"Dataset Length: {len(self.data)}\")\n",
        "        print(\"Hierarchical Structure (up to level 2):\")\n",
        "        self.tree.print_node(max_level=2)\n",
        "        print(f\"Number of classes: {len(self.classes)}\")\n",
        "\n",
        "    def __len__(self):\n",
        "        return len(self.data)\n",
        "\n",
        "    def __getitem__(self, idx):\n",
        "        sample = self.data[idx]\n",
        "        image = Image.open(sample[\"image_path\"]).convert('RGB')\n",
        "        group = sample[\"group\"][:self.level]\n",
        "        target = self.classes[group]\n",
        "        if self.transform:\n",
        "            image = self.transform(image)\n",
        "        return image, target\n",
        "\n",
        "    def get_group_iterator(self, level=None) -> Iterator[Node]:\n",
        "        for group in self.tree.level_iterator(level):\n",
        "            yield group\n"
      ],
      "metadata": {
        "id": "xeoMBv10tdne"
      },
      "execution_count": null,
      "outputs": []
    },
    {
      "cell_type": "code",
      "source": [
        "from torchvision import transforms\n",
        "\n",
        "# افزایش داده برای مجموعه آموزشی\n",
        "train_transform = transforms.Compose([\n",
        "    transforms.Resize(256),\n",
        "    transforms.RandomResizedCrop(224),\n",
        "    transforms.RandomHorizontalFlip(),\n",
        "    transforms.ColorJitter(brightness=0.2, contrast=0.2, saturation=0.2, hue=0.1),\n",
        "    transforms.RandomRotation(15),\n",
        "    transforms.ToTensor(),\n",
        "    transforms.Normalize((0.4556, 0.4714, 0.3700), (0.2370, 0.2318, 0.2431))\n",
        "])\n",
        "\n",
        "# پیش‌پردازش برای مجموعه اعتبارسنجی\n",
        "val_transform = transforms.Compose([\n",
        "    transforms.Resize(256),\n",
        "    transforms.CenterCrop(224),\n",
        "    transforms.ToTensor(),\n",
        "    transforms.Normalize((0.4556, 0.4714, 0.3700), (0.2370, 0.2318, 0.2431))\n",
        "])\n"
      ],
      "metadata": {
        "id": "UN8VMuehtjqu"
      },
      "execution_count": null,
      "outputs": []
    },
    {
      "cell_type": "code",
      "source": [
        "import torch\n",
        "from torchvision import models\n",
        "from torch import nn\n",
        "\n",
        "def get_model(num_classes):\n",
        "    model = models.resnet50(pretrained=True)\n",
        "    num_ftrs = model.fc.in_features\n",
        "    model.fc = nn.Linear(num_ftrs, num_classes)\n",
        "    return model\n",
        "\n",
        "# بارگذاری مدل\n",
        "dataset_path = 'train'  # مسیر دیتاست\n",
        "full_dataset = HierarchicalDataset(dataset_path=dataset_path, level=2, transform=train_transform)\n",
        "model = get_model(num_classes=len(full_dataset.classes)).to(device)\n"
      ],
      "metadata": {
        "colab": {
          "base_uri": "https://localhost:8080/"
        },
        "id": "3-1yTPQItk-0",
        "outputId": "9f0be3a9-b045-4c71-9bfa-8f924df3fe87"
      },
      "execution_count": null,
      "outputs": [
        {
          "output_type": "stream",
          "name": "stdout",
          "text": [
            "Dataset Length: 99970\n",
            "Hierarchical Structure (up to level 2):\n",
            "Dataset (99970)\n",
            "    Animalia (49112)\n",
            "        Annelida (13)\n",
            "        Arthropoda (29675)\n",
            "        Chordata (18518)\n",
            "        Cnidaria (124)\n",
            "        Echinodermata (83)\n",
            "        Mollusca (699)\n",
            "    Fungi (1812)\n",
            "        Ascomycota (396)\n",
            "        Basidiomycota (1416)\n",
            "    Plantae (49046)\n",
            "        Bryophyta (133)\n",
            "        Chlorophyta (13)\n",
            "        Marchantiophyta (22)\n",
            "        Rhodophyta (22)\n",
            "        Tracheophyta (48856)\n",
            "Number of classes: 13\n"
          ]
        },
        {
          "output_type": "stream",
          "name": "stderr",
          "text": [
            "/usr/local/lib/python3.10/dist-packages/torchvision/models/_utils.py:208: UserWarning: The parameter 'pretrained' is deprecated since 0.13 and may be removed in the future, please use 'weights' instead.\n",
            "  warnings.warn(\n",
            "/usr/local/lib/python3.10/dist-packages/torchvision/models/_utils.py:223: UserWarning: Arguments other than a weight enum or `None` for 'weights' are deprecated since 0.13 and may be removed in the future. The current behavior is equivalent to passing `weights=ResNet50_Weights.IMAGENET1K_V1`. You can also use `weights=ResNet50_Weights.DEFAULT` to get the most up-to-date weights.\n",
            "  warnings.warn(msg)\n",
            "Downloading: \"https://download.pytorch.org/models/resnet50-0676ba61.pth\" to /root/.cache/torch/hub/checkpoints/resnet50-0676ba61.pth\n",
            "100%|██████████| 97.8M/97.8M [00:00<00:00, 209MB/s]\n"
          ]
        }
      ]
    },
    {
      "cell_type": "code",
      "source": [
        "import torch.optim as optim\n",
        "from torch.utils.data import DataLoader, random_split\n",
        "import numpy as np\n",
        "\n",
        "# تنظیمات آموزش\n",
        "learning_rate = 1e-4\n",
        "batch_size = 256\n",
        "num_epochs = 30\n",
        "validation_split = 0.1\n",
        "random_seed = 42\n",
        "\n",
        "# تقسیم‌بندی به مجموعه آموزشی و اعتبارسنجی\n",
        "dataset_size = len(full_dataset)\n",
        "indices = list(range(dataset_size))\n",
        "split = int(np.floor(validation_split * dataset_size))\n",
        "\n",
        "np.random.seed(random_seed)\n",
        "np.random.shuffle(indices)\n",
        "\n",
        "train_indices, val_indices = indices[split:], indices[:split]\n",
        "\n",
        "train_subset = torch.utils.data.Subset(full_dataset, train_indices)\n",
        "val_subset = torch.utils.data.Subset(HierarchicalDataset(dataset_path=dataset_path, level=2, transform=val_transform), val_indices)\n",
        "\n",
        "# محاسبه وزن‌های کلاس\n",
        "def compute_class_weights(dataset):\n",
        "    class_counts = {}\n",
        "    for _, label in dataset:\n",
        "        class_counts[label] = class_counts.get(label, 0) + 1\n",
        "    total_samples = len(dataset)\n",
        "    class_weights = [total_samples / (len(full_dataset.classes) * class_counts[i]) for i in range(len(full_dataset.classes))]\n",
        "    return torch.tensor(class_weights, dtype=torch.float).to(device)\n",
        "\n",
        "class_weights = compute_class_weights(train_subset)\n",
        "\n",
        "# بارگذاری داده‌ها\n",
        "train_loader = DataLoader(train_subset, batch_size=batch_size, shuffle=True, num_workers=4, pin_memory=True)\n",
        "val_loader = DataLoader(val_subset, batch_size=batch_size, shuffle=False, num_workers=4, pin_memory=True)\n",
        "\n",
        "# تعریف تابع هزینه و بهینه‌ساز\n",
        "criterion = nn.CrossEntropyLoss(weight=class_weights)\n",
        "optimizer = optim.Adam(model.parameters(), lr=learning_rate, weight_decay=1e-5)\n",
        "\n",
        "# تنظیم‌کننده نرخ یادگیری\n",
        "scheduler = optim.lr_scheduler.ReduceLROnPlateau(optimizer, mode='min', factor=0.5, patience=3, verbose=True)\n"
      ],
      "metadata": {
        "colab": {
          "base_uri": "https://localhost:8080/"
        },
        "id": "8JFidsAHtmTu",
        "outputId": "b500c48c-ebe1-44f0-efc5-3303cc65459b"
      },
      "execution_count": null,
      "outputs": [
        {
          "output_type": "stream",
          "name": "stdout",
          "text": [
            "Dataset Length: 99970\n",
            "Hierarchical Structure (up to level 2):\n",
            "Dataset (99970)\n",
            "    Animalia (49112)\n",
            "        Annelida (13)\n",
            "        Arthropoda (29675)\n",
            "        Chordata (18518)\n",
            "        Cnidaria (124)\n",
            "        Echinodermata (83)\n",
            "        Mollusca (699)\n",
            "    Fungi (1812)\n",
            "        Ascomycota (396)\n",
            "        Basidiomycota (1416)\n",
            "    Plantae (49046)\n",
            "        Bryophyta (133)\n",
            "        Chlorophyta (13)\n",
            "        Marchantiophyta (22)\n",
            "        Rhodophyta (22)\n",
            "        Tracheophyta (48856)\n",
            "Number of classes: 13\n"
          ]
        },
        {
          "output_type": "stream",
          "name": "stderr",
          "text": [
            "/usr/local/lib/python3.10/dist-packages/torch/optim/lr_scheduler.py:62: UserWarning: The verbose parameter is deprecated. Please use get_last_lr() to access the learning rate.\n",
            "  warnings.warn(\n"
          ]
        }
      ]
    },
    {
      "cell_type": "code",
      "source": [
        "from tqdm import tqdm\n",
        "\n",
        "def train_one_epoch(model, dataloader, criterion, optimizer, device):\n",
        "    model.train()\n",
        "    running_loss = 0.0\n",
        "    correct = 0\n",
        "    total = 0\n",
        "    progress_bar = tqdm(dataloader, desc=\"Training\", leave=False)\n",
        "\n",
        "    for inputs, labels in progress_bar:\n",
        "        inputs, labels = inputs.to(device), labels.to(device)\n",
        "\n",
        "        optimizer.zero_grad()\n",
        "        outputs = model(inputs)\n",
        "        loss = criterion(outputs, labels)\n",
        "        loss.backward()\n",
        "        optimizer.step()\n",
        "\n",
        "        # آمارگیری\n",
        "        running_loss += loss.item() * inputs.size(0)\n",
        "        _, predicted = torch.max(outputs, 1)\n",
        "        total += labels.size(0)\n",
        "        correct += (predicted == labels).sum().item()\n",
        "\n",
        "        progress_bar.set_postfix(loss=loss.item(), accuracy=100. * correct / total)\n",
        "\n",
        "    epoch_loss = running_loss / total\n",
        "    epoch_acc = correct / total\n",
        "    return epoch_loss, epoch_acc\n",
        "\n",
        "def validate(model, dataloader, criterion, device):\n",
        "    model.eval()\n",
        "    running_loss = 0.0\n",
        "    correct = 0\n",
        "    total = 0\n",
        "    progress_bar = tqdm(dataloader, desc=\"Validation\", leave=False)\n",
        "\n",
        "    with torch.no_grad():\n",
        "        for inputs, labels in progress_bar:\n",
        "            inputs, labels = inputs.to(device), labels.to(device)\n",
        "\n",
        "            outputs = model(inputs)\n",
        "            loss = criterion(outputs, labels)\n",
        "\n",
        "            running_loss += loss.item() * inputs.size(0)\n",
        "            _, predicted = torch.max(outputs, 1)\n",
        "            total += labels.size(0)\n",
        "            correct += (predicted == labels).sum().item()\n",
        "\n",
        "            progress_bar.set_postfix(loss=loss.item(), accuracy=100. * correct / total)\n",
        "\n",
        "    epoch_loss = running_loss / total\n",
        "    epoch_acc = correct / total\n",
        "    return epoch_loss, epoch_acc\n"
      ],
      "metadata": {
        "id": "im7rRR6Cto30"
      },
      "execution_count": null,
      "outputs": []
    },
    {
      "cell_type": "code",
      "source": [
        "import torch\n",
        "import os\n",
        "import zipfile\n",
        "\n",
        "# تنظیم دستگاه\n",
        "device = torch.device('cuda' if torch.cuda.is_available() else 'cpu')\n",
        "\n",
        "# ایجاد پوشه برای چک‌پوینت‌ها\n",
        "checkpoint_dir = './checkpoints'\n",
        "os.makedirs(checkpoint_dir, exist_ok=True)\n",
        "\n",
        "best_val_acc = 0.0\n",
        "\n",
        "for epoch in range(1, num_epochs + 1):\n",
        "    print(f\"Epoch {epoch}/{num_epochs}\")\n",
        "\n",
        "    train_loss, train_acc = train_one_epoch(model, train_loader, criterion, optimizer, device)\n",
        "    val_loss, val_acc = validate(model, val_loader, criterion, device)\n",
        "\n",
        "    print(f\"Train Loss: {train_loss:.4f} | Train Acc: {train_acc:.4f}\")\n",
        "    print(f\"Val Loss: {val_loss:.4f} | Val Acc: {val_acc:.4f}\")\n",
        "\n",
        "    # به‌روزرسانی تنظیم‌کننده نرخ یادگیری\n",
        "    scheduler.step(val_loss)\n",
        "\n",
        "    # ذخیره چک‌پوینت بهترین مدل\n",
        "    if val_acc > best_val_acc:\n",
        "        best_val_acc = val_acc\n",
        "        checkpoint_path = os.path.join(checkpoint_dir, 'best_checkpoint.pth')\n",
        "        torch.save({\n",
        "            'epoch': epoch,\n",
        "            'model_state_dict': model.state_dict(),\n",
        "            'optimizer_state_dict': optimizer.state_dict(),\n",
        "            'val_loss': val_loss,\n",
        "            'val_acc': val_acc,\n",
        "        }, checkpoint_path)\n",
        "        print(f\"New best model saved with Val Acc: {best_val_acc:.4f}\")\n",
        "\n",
        "    print(\"-\" * 30)\n",
        "\n",
        "# بارگذاری بهترین مدل\n",
        "best_checkpoint = torch.load(os.path.join(checkpoint_dir, 'best_checkpoint.pth'), map_location=device)\n",
        "model.load_state_dict(best_checkpoint['model_state_dict'])\n",
        "\n",
        "# ذخیره وزن‌های نهایی مدل\n",
        "torch.save(model.state_dict(), 'resnet.pth')\n",
        "\n",
        "# ایجاد فایل ZIP برای ارسال\n",
        "with zipfile.ZipFile('submission.zip', 'w') as zipf:\n",
        "    zipf.write('resnet.pth')\n",
        "\n",
        "print(\"وزن‌های مدل به نام 'resnet.pth' ذخیره شده و در 'submission.zip' بسته‌بندی شدند.\")\n"
      ],
      "metadata": {
        "colab": {
          "base_uri": "https://localhost:8080/"
        },
        "id": "lZiYfwN5tquB",
        "outputId": "254d3b60-3c82-4cf1-e33b-9819fe9bf237"
      },
      "execution_count": null,
      "outputs": [
        {
          "metadata": {
            "tags": null
          },
          "name": "stdout",
          "output_type": "stream",
          "text": [
            "Epoch 1/30\n"
          ]
        },
        {
          "metadata": {
            "tags": null
          },
          "name": "stderr",
          "output_type": "stream",
          "text": [
            ""
          ]
        },
        {
          "metadata": {
            "tags": null
          },
          "name": "stdout",
          "output_type": "stream",
          "text": [
            "Train Loss: 1.9650 | Train Acc: 0.5107\n",
            "Val Loss: 1.6733 | Val Acc: 0.5991\n",
            "New best model saved with Val Acc: 0.5991\n",
            "------------------------------\n",
            "Epoch 2/30\n"
          ]
        },
        {
          "metadata": {
            "tags": null
          },
          "name": "stderr",
          "output_type": "stream",
          "text": [
            ""
          ]
        },
        {
          "metadata": {
            "tags": null
          },
          "name": "stdout",
          "output_type": "stream",
          "text": [
            "Train Loss: 1.7190 | Train Acc: 0.5759\n",
            "Val Loss: 1.4045 | Val Acc: 0.7166\n",
            "New best model saved with Val Acc: 0.7166\n",
            "------------------------------\n",
            "Epoch 3/30\n"
          ]
        },
        {
          "output_type": "stream",
          "name": "stderr",
          "text": []
        },
        {
          "output_type": "stream",
          "name": "stdout",
          "text": [
            "Train Loss: 1.6205 | Train Acc: 0.5957\n",
            "Val Loss: 1.2008 | Val Acc: 0.7167\n",
            "New best model saved with Val Acc: 0.7167\n",
            "------------------------------\n",
            "Epoch 4/30\n"
          ]
        },
        {
          "output_type": "stream",
          "name": "stderr",
          "text": []
        },
        {
          "output_type": "stream",
          "name": "stdout",
          "text": [
            "Train Loss: 1.5355 | Train Acc: 0.5888\n",
            "Val Loss: 1.2414 | Val Acc: 0.7911\n",
            "New best model saved with Val Acc: 0.7911\n",
            "------------------------------\n",
            "Epoch 5/30\n"
          ]
        },
        {
          "output_type": "stream",
          "name": "stderr",
          "text": []
        },
        {
          "output_type": "stream",
          "name": "stdout",
          "text": [
            "Train Loss: 1.4841 | Train Acc: 0.6071\n",
            "Val Loss: 1.4102 | Val Acc: 0.7729\n",
            "------------------------------\n",
            "Epoch 6/30\n"
          ]
        },
        {
          "output_type": "stream",
          "name": "stderr",
          "text": []
        },
        {
          "output_type": "stream",
          "name": "stdout",
          "text": [
            "Train Loss: 1.3435 | Train Acc: 0.6268\n",
            "Val Loss: 1.1482 | Val Acc: 0.7052\n",
            "------------------------------\n",
            "Epoch 7/30\n"
          ]
        },
        {
          "output_type": "stream",
          "name": "stderr",
          "text": []
        },
        {
          "output_type": "stream",
          "name": "stdout",
          "text": [
            "Train Loss: 1.3733 | Train Acc: 0.6286\n",
            "Val Loss: 1.2110 | Val Acc: 0.7704\n",
            "------------------------------\n",
            "Epoch 8/30\n"
          ]
        },
        {
          "output_type": "stream",
          "name": "stderr",
          "text": []
        },
        {
          "output_type": "stream",
          "name": "stdout",
          "text": [
            "Train Loss: 1.2879 | Train Acc: 0.6312\n",
            "Val Loss: 1.2077 | Val Acc: 0.7251\n",
            "------------------------------\n",
            "Epoch 9/30\n"
          ]
        },
        {
          "output_type": "stream",
          "name": "stderr",
          "text": []
        },
        {
          "output_type": "stream",
          "name": "stdout",
          "text": [
            "Train Loss: 1.3014 | Train Acc: 0.6234\n",
            "Val Loss: 1.0417 | Val Acc: 0.7291\n",
            "------------------------------\n",
            "Epoch 10/30\n"
          ]
        },
        {
          "output_type": "stream",
          "name": "stderr",
          "text": []
        },
        {
          "output_type": "stream",
          "name": "stdout",
          "text": [
            "Train Loss: 1.1829 | Train Acc: 0.6559\n",
            "Val Loss: 1.2805 | Val Acc: 0.7605\n",
            "------------------------------\n",
            "Epoch 11/30\n"
          ]
        },
        {
          "output_type": "stream",
          "name": "stderr",
          "text": []
        },
        {
          "output_type": "stream",
          "name": "stdout",
          "text": [
            "Train Loss: 1.1511 | Train Acc: 0.6388\n",
            "Val Loss: 1.2966 | Val Acc: 0.6895\n",
            "------------------------------\n",
            "Epoch 12/30\n"
          ]
        },
        {
          "output_type": "stream",
          "name": "stderr",
          "text": []
        },
        {
          "output_type": "stream",
          "name": "stdout",
          "text": [
            "Train Loss: 1.1555 | Train Acc: 0.6511\n",
            "Val Loss: 1.2145 | Val Acc: 0.7693\n",
            "------------------------------\n",
            "Epoch 13/30\n"
          ]
        },
        {
          "output_type": "stream",
          "name": "stderr",
          "text": []
        },
        {
          "output_type": "stream",
          "name": "stdout",
          "text": [
            "Train Loss: 1.1184 | Train Acc: 0.6490\n",
            "Val Loss: 1.1967 | Val Acc: 0.7039\n",
            "------------------------------\n",
            "Epoch 14/30\n"
          ]
        },
        {
          "output_type": "stream",
          "name": "stderr",
          "text": []
        },
        {
          "output_type": "stream",
          "name": "stdout",
          "text": [
            "Train Loss: 0.9449 | Train Acc: 0.6834\n",
            "Val Loss: 0.9940 | Val Acc: 0.7826\n",
            "------------------------------\n",
            "Epoch 15/30\n"
          ]
        },
        {
          "output_type": "stream",
          "name": "stderr",
          "text": []
        },
        {
          "output_type": "stream",
          "name": "stdout",
          "text": [
            "Train Loss: 0.8233 | Train Acc: 0.7051\n",
            "Val Loss: 0.9539 | Val Acc: 0.8097\n",
            "New best model saved with Val Acc: 0.8097\n",
            "------------------------------\n",
            "Epoch 16/30\n"
          ]
        },
        {
          "output_type": "stream",
          "name": "stderr",
          "text": []
        },
        {
          "output_type": "stream",
          "name": "stdout",
          "text": [
            "Train Loss: 0.7949 | Train Acc: 0.7197\n",
            "Val Loss: 1.0213 | Val Acc: 0.8148\n",
            "New best model saved with Val Acc: 0.8148\n",
            "------------------------------\n",
            "Epoch 17/30\n"
          ]
        },
        {
          "output_type": "stream",
          "name": "stderr",
          "text": []
        },
        {
          "output_type": "stream",
          "name": "stdout",
          "text": [
            "Train Loss: 0.7565 | Train Acc: 0.7183\n",
            "Val Loss: 1.0384 | Val Acc: 0.8004\n",
            "------------------------------\n",
            "Epoch 18/30\n"
          ]
        },
        {
          "output_type": "stream",
          "name": "stderr",
          "text": []
        },
        {
          "output_type": "stream",
          "name": "stdout",
          "text": [
            "Train Loss: 0.7529 | Train Acc: 0.7325\n",
            "Val Loss: 1.0595 | Val Acc: 0.8184\n",
            "New best model saved with Val Acc: 0.8184\n",
            "------------------------------\n",
            "Epoch 19/30\n"
          ]
        },
        {
          "output_type": "stream",
          "name": "stderr",
          "text": []
        },
        {
          "output_type": "stream",
          "name": "stdout",
          "text": [
            "Train Loss: 0.7418 | Train Acc: 0.7238\n",
            "Val Loss: 0.8969 | Val Acc: 0.7879\n",
            "------------------------------\n",
            "Epoch 20/30\n"
          ]
        },
        {
          "output_type": "stream",
          "name": "stderr",
          "text": []
        },
        {
          "output_type": "stream",
          "name": "stdout",
          "text": [
            "Train Loss: 0.7329 | Train Acc: 0.7253\n",
            "Val Loss: 1.2793 | Val Acc: 0.7387\n",
            "------------------------------\n",
            "Epoch 21/30\n"
          ]
        },
        {
          "output_type": "stream",
          "name": "stderr",
          "text": []
        },
        {
          "output_type": "stream",
          "name": "stdout",
          "text": [
            "Train Loss: 0.7016 | Train Acc: 0.7141\n",
            "Val Loss: 1.2167 | Val Acc: 0.8206\n",
            "New best model saved with Val Acc: 0.8206\n",
            "------------------------------\n",
            "Epoch 22/30\n"
          ]
        },
        {
          "output_type": "stream",
          "name": "stderr",
          "text": []
        },
        {
          "output_type": "stream",
          "name": "stdout",
          "text": [
            "Train Loss: 0.7383 | Train Acc: 0.7335\n",
            "Val Loss: 1.0336 | Val Acc: 0.8077\n",
            "------------------------------\n",
            "Epoch 23/30\n"
          ]
        },
        {
          "output_type": "stream",
          "name": "stderr",
          "text": []
        },
        {
          "output_type": "stream",
          "name": "stdout",
          "text": [
            "Train Loss: 0.6837 | Train Acc: 0.7360\n",
            "Val Loss: 1.0744 | Val Acc: 0.8350\n",
            "New best model saved with Val Acc: 0.8350\n",
            "------------------------------\n",
            "Epoch 24/30\n"
          ]
        },
        {
          "output_type": "stream",
          "name": "stderr",
          "text": []
        },
        {
          "output_type": "stream",
          "name": "stdout",
          "text": [
            "Train Loss: 0.6394 | Train Acc: 0.7503\n",
            "Val Loss: 1.1827 | Val Acc: 0.8407\n",
            "New best model saved with Val Acc: 0.8407\n",
            "------------------------------\n",
            "Epoch 25/30\n"
          ]
        },
        {
          "output_type": "stream",
          "name": "stderr",
          "text": []
        },
        {
          "output_type": "stream",
          "name": "stdout",
          "text": [
            "Train Loss: 0.5625 | Train Acc: 0.7618\n",
            "Val Loss: 1.2471 | Val Acc: 0.8506\n",
            "New best model saved with Val Acc: 0.8506\n",
            "------------------------------\n",
            "Epoch 26/30\n"
          ]
        },
        {
          "output_type": "stream",
          "name": "stderr",
          "text": []
        },
        {
          "output_type": "stream",
          "name": "stdout",
          "text": [
            "Train Loss: 0.5399 | Train Acc: 0.7672\n",
            "Val Loss: 1.2548 | Val Acc: 0.8438\n",
            "------------------------------\n",
            "Epoch 27/30\n"
          ]
        },
        {
          "output_type": "stream",
          "name": "stderr",
          "text": []
        },
        {
          "output_type": "stream",
          "name": "stdout",
          "text": [
            "Train Loss: 0.5015 | Train Acc: 0.7690\n",
            "Val Loss: 1.2210 | Val Acc: 0.8498\n",
            "------------------------------\n",
            "Epoch 28/30\n"
          ]
        },
        {
          "output_type": "stream",
          "name": "stderr",
          "text": []
        },
        {
          "output_type": "stream",
          "name": "stdout",
          "text": [
            "Train Loss: 0.4909 | Train Acc: 0.7760\n",
            "Val Loss: 1.2485 | Val Acc: 0.8569\n",
            "New best model saved with Val Acc: 0.8569\n",
            "------------------------------\n",
            "Epoch 29/30\n"
          ]
        },
        {
          "output_type": "stream",
          "name": "stderr",
          "text": []
        },
        {
          "output_type": "stream",
          "name": "stdout",
          "text": [
            "Train Loss: 0.4697 | Train Acc: 0.7747\n",
            "Val Loss: 1.2112 | Val Acc: 0.8550\n",
            "------------------------------\n",
            "Epoch 30/30\n"
          ]
        },
        {
          "output_type": "stream",
          "name": "stderr",
          "text": [
            "<ipython-input-9-87756a817121>:42: FutureWarning: You are using `torch.load` with `weights_only=False` (the current default value), which uses the default pickle module implicitly. It is possible to construct malicious pickle data which will execute arbitrary code during unpickling (See https://github.com/pytorch/pytorch/blob/main/SECURITY.md#untrusted-models for more details). In a future release, the default value for `weights_only` will be flipped to `True`. This limits the functions that could be executed during unpickling. Arbitrary objects will no longer be allowed to be loaded via this mode unless they are explicitly allowlisted by the user via `torch.serialization.add_safe_globals`. We recommend you start setting `weights_only=True` for any use case where you don't have full control of the loaded file. Please open an issue on GitHub for any issues related to this experimental feature.\n",
            "  best_checkpoint = torch.load(os.path.join(checkpoint_dir, 'best_checkpoint.pth'), map_location=device)\n"
          ]
        },
        {
          "output_type": "stream",
          "name": "stdout",
          "text": [
            "Train Loss: 0.4552 | Train Acc: 0.7809\n",
            "Val Loss: 1.1817 | Val Acc: 0.8545\n",
            "------------------------------\n",
            "وزن‌های مدل به نام 'resnet.pth' ذخیره شده و در 'submission.zip' بسته‌بندی شدند.\n"
          ]
        }
      ]
    },
    {
      "cell_type": "code",
      "source": [
        "from google.colab import drive\n",
        "drive.mount('/content/drive')"
      ],
      "metadata": {
        "id": "LMaF0tAlNT-D"
      },
      "execution_count": null,
      "outputs": []
    },
    {
      "cell_type": "code",
      "source": [
        "import zipfile\n",
        "import os\n",
        "\n",
        "def zip_multiple_files(input_paths, output_zip_path, compression_level=5):\n",
        "    # Ensure compression level is within 1-9\n",
        "    compression_level = max(1, min(compression_level, 1))\n",
        "\n",
        "    # Create a zip file with the specified compression level\n",
        "    compression = zipfile.ZIP_DEFLATED\n",
        "\n",
        "    # Create the zip file\n",
        "    with zipfile.ZipFile(output_zip_path, 'w', compression) as zipf:\n",
        "        for input_path in input_paths:\n",
        "            # Check if the file or directory exists\n",
        "            if not os.path.exists(input_path):\n",
        "                print(f\"{input_path} does not exist.\")\n",
        "                continue\n",
        "\n",
        "            # If it's a directory, recursively add files\n",
        "            if os.path.isdir(input_path):\n",
        "                for root, dirs, files in os.walk(input_path):\n",
        "                    for file in files:\n",
        "                        file_full_path = os.path.join(root, file)\n",
        "                        zipf.write(file_full_path,\n",
        "                                   os.path.relpath(file_full_path,\n",
        "                                                   os.path.join(input_path, '..')))\n",
        "            # If it's a single file, add it to the zip file\n",
        "            else:\n",
        "                zipf.write(input_path, os.path.basename(input_path))\n",
        "\n",
        "    print(f\"Successfully zipped files to {output_zip_path} with compression level {compression_level}\")\n",
        "\n",
        "# Example usage:\n",
        "input_paths = ['/content/model.py', '/content/model.pth']  # List of files or directories to zip\n",
        "output_zip_path = '/content/submission2.zip'  # Path to save the output zip file\n",
        "compression_level = 5  # Compression level from 1 (fastest) to 9 (most compressed)\n",
        "zip_multiple_files(input_paths, output_zip_path, compression_level)\n"
      ],
      "metadata": {
        "id": "5IjB6QD5NUXV"
      },
      "execution_count": null,
      "outputs": []
    },
    {
      "cell_type": "code",
      "source": [
        "!cp /content/submission3.zip /content/drive/MyDrive/ML/Rayan/Q3/submission"
      ],
      "metadata": {
        "colab": {
          "base_uri": "https://localhost:8080/"
        },
        "id": "OlWn4-39NZFg",
        "outputId": "b6d8837a-9372-40da-b5ba-f86b8d5181ac"
      },
      "execution_count": null,
      "outputs": [
        {
          "output_type": "stream",
          "name": "stdout",
          "text": [
            "cp: cannot create regular file '/content/drive/MyDrive/ML/Rayan/Q3/submission': No such file or directory\n"
          ]
        }
      ]
    },
    {
      "cell_type": "code",
      "source": [
        "!cp /content/submission3.zip /content/drive/MyDrive/ML/Rayan/Q3/submission/\n"
      ],
      "metadata": {
        "id": "2ywGKuris7nN"
      },
      "execution_count": null,
      "outputs": []
    },
    {
      "cell_type": "code",
      "source": [
        "from google.colab import drive\n",
        "drive.mount('/content/drive')\n"
      ],
      "metadata": {
        "colab": {
          "base_uri": "https://localhost:8080/"
        },
        "id": "UrAO4OtAtFNy",
        "outputId": "7ba4f5b6-0cd2-446a-8c2e-73e29c1fd7c7"
      },
      "execution_count": null,
      "outputs": [
        {
          "output_type": "stream",
          "name": "stdout",
          "text": [
            "Mounted at /content/drive\n"
          ]
        }
      ]
    }
  ]
}